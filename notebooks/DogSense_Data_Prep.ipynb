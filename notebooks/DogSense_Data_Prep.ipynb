{
 "cells": [
  {"cell_type":"markdown","metadata":{},"source":["# DogSense – Auto Notebook","Place your `annotations.csv` at repo root (or set env `DOGSENSE_CSV`). Then run the cells."]},
  {"cell_type":"code","metadata":{},"source":["import os, pandas as pd, subprocess, sys"],"execution_count":null,"outputs":[]},
  {"cell_type":"code","metadata":{},"source":["# This will run the CLI script using the env var or fallbacks","ret = subprocess.run([sys.executable, 'scripts/analyze_annotations.py'])","print('Return code:', ret.returncode)"],"execution_count":null,"outputs":[]}
 ],
 "metadata":{"kernelspec":{"display_name":"Python 3","language":"python","name":"python3"}},
 "nbformat":4,"nbformat_minor":5
}